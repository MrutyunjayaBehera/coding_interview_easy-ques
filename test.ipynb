{
 "cells": [
  {
   "cell_type": "markdown",
   "metadata": {},
   "source": [
    "###                                                     Asked in docing interviews\n",
    "###                                                          Difficulty level : easy\n",
    "\n",
    "#### Given a non-negative integer num,  return the number of steps to reduce it to zero. If the current number is even, you have to divide it by 2, otherwise, you have to subtract 1 from it.\n",
    "\n",
    "#### input : num = 14\n",
    "#### output : 6"
   ]
  },
  {
   "cell_type": "code",
   "execution_count": 10,
   "metadata": {},
   "outputs": [
    {
     "data": {
      "text/plain": [
       "6"
      ]
     },
     "execution_count": 10,
     "metadata": {},
     "output_type": "execute_result"
    }
   ],
   "source": [
    "def return_steps(num):\n",
    "    count = 0\n",
    "    while num > 0:\n",
    "        if num%2 == 0:\n",
    "            num = num // 2\n",
    "        else:\n",
    "            num = num - 1   \n",
    "        count = count + 1\n",
    "    return count\n",
    "\n",
    "num = 14\n",
    "return_steps(num)"
   ]
  }
 ],
 "metadata": {
  "kernelspec": {
   "display_name": "Python 3",
   "language": "python",
   "name": "python3"
  },
  "language_info": {
   "codemirror_mode": {
    "name": "ipython",
    "version": 3
   },
   "file_extension": ".py",
   "mimetype": "text/x-python",
   "name": "python",
   "nbconvert_exporter": "python",
   "pygments_lexer": "ipython3",
   "version": "3.8.2"
  }
 },
 "nbformat": 4,
 "nbformat_minor": 4
}
